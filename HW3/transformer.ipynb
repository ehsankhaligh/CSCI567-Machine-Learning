{
 "cells": [
  {
   "cell_type": "code",
   "execution_count": 16,
   "metadata": {
    "id": "cPGBtkkP3WDS"
   },
   "outputs": [
    {
     "data": {
      "text/plain": [
       "<torch._C.Generator at 0x113b0b190>"
      ]
     },
     "execution_count": 16,
     "metadata": {},
     "output_type": "execute_result"
    }
   ],
   "source": [
    "import torch\n",
    "import torch.nn as nn\n",
    "from torch.nn import functional as F\n",
    "import matplotlib.pyplot as plt\n",
    "import numpy as np\n",
    "\n",
    "torch.manual_seed(1337)"
   ]
  },
  {
   "cell_type": "markdown",
   "metadata": {
    "id": "r-xXM4CrvAXc"
   },
   "source": [
    "# Let's build the model"
   ]
  },
  {
   "cell_type": "markdown",
   "metadata": {
    "id": "9ibQjrqnvKby"
   },
   "source": [
    "We will first implement self-Attention layer."
   ]
  },
  {
   "cell_type": "code",
   "execution_count": 17,
   "metadata": {
    "id": "A-ab2mTkvJhK"
   },
   "outputs": [],
   "source": [
    "class Head(nn.Module):\n",
    "    \"\"\" one head of self-attention \"\"\"\n",
    "\n",
    "    def __init__(self, n_embd, head_size, block_size):\n",
    "        super().__init__()\n",
    "        self.key = nn.Linear(n_embd, head_size, bias=False)\n",
    "        self.query = nn.Linear(n_embd, head_size, bias=False)\n",
    "        self.value = nn.Linear(n_embd, head_size, bias=False)\n",
    "        self.register_buffer('tril', torch.tril(torch.ones(block_size, block_size)))\n",
    "\n",
    "        self.dropout = nn.Dropout(dropout)\n",
    "\n",
    "    def forward(self, x):\n",
    "        \"\"\" Input: x of shape (B, T, C), i.e. (batch size, sequence length, input channels)\n",
    "          Output: tensor of shape (B, T, C)\n",
    "\n",
    "          (1) Computes key and query representations using linear transformations.\n",
    "          (2) Computes attention scores by multiplying query and key tensors and normalizing by C**-0.5.\n",
    "              Masks out future information using the lower triangular matrix (you can use tril function).\n",
    "              Applies softmax to get attention weights. Then, applies dropout for regularization\n",
    "          (3) Computes the weighted sum of values using attention weights.\n",
    "        \"\"\"\n",
    "        B,T,C = x.shape\n",
    "        k = self.key(x)   # (B,T,C)\n",
    "        q = self.query(x) # (B,T,C)\n",
    "        # compute attention scores (\"affinities\")\n",
    "        wei = q @ k.transpose(-2,-1) * C**-0.5 # (B, T, C) @ (B, C, T) -> (B, T, T)\n",
    "        wei = wei.masked_fill(self.tril[:T, :T] == 0, float('-inf')) # (B, T, T)\n",
    "        wei = F.softmax(wei, dim=-1) # (B, T, T)\n",
    "        wei = self.dropout(wei)\n",
    "        # perform the weighted aggregation of the values\n",
    "        v = self.value(x) # (B,T,C)\n",
    "        out = wei @ v # (B, T, T) @ (B, T, C) -> (B, T, C)\n",
    "        return out\n",
    "\n",
    "class MultiHeadAttention(nn.Module):\n",
    "    \"\"\" multiple heads of self-attention in parallel \"\"\"\n",
    "\n",
    "    def __init__(self, num_heads, head_size, n_embd, block_size):\n",
    "        super().__init__()\n",
    "        self.heads = nn.ModuleList([Head(n_embd, head_size, block_size) for _ in range(num_heads)])\n",
    "        self.proj = nn.Linear(n_embd, n_embd)\n",
    "        self.dropout = nn.Dropout(dropout)\n",
    "\n",
    "    def forward(self, x):\n",
    "        \"\"\" Input: x of shape (B, T, C), i.e. (batch size, sequence length, input channels)\n",
    "          Output: tensor of shape (B, T, C)\n",
    "\n",
    "          (1) Computes attention for each head in parallel and concatenates their outputs along the last dimension.\n",
    "          (2) Projects concatenated head outputs back to the original dimension using a linear layer.\n",
    "          (3) Applies dropout for regularization.\n",
    "        \"\"\"\n",
    "\n",
    "        ##################################################################\n",
    "        #\n",
    "        out = torch.cat([h(x) for h in self.heads], dim=-1)\n",
    "        out = self.dropout(self.proj(out))\n",
    "        return out\n",
    "        #\n",
    "        ##################################################################\n"
   ]
  },
  {
   "cell_type": "markdown",
   "metadata": {
    "id": "Zmr-yFRO0YEU"
   },
   "source": [
    "It's turn for FeedForward module!"
   ]
  },
  {
   "cell_type": "code",
   "execution_count": 18,
   "metadata": {
    "id": "keRYFV380XL-"
   },
   "outputs": [],
   "source": [
    "class FeedFoward(nn.Module):\n",
    "    \"\"\" a simple linear layer followed by a non-linearity \"\"\"\n",
    "\n",
    "    def __init__(self, n_embd):\n",
    "        super().__init__()\n",
    "\n",
    "        ##################################################################\n",
    "        #\n",
    "        self.net = nn.Sequential(\n",
    "            nn.Linear(n_embd, 4 * n_embd),\n",
    "            nn.ReLU(),\n",
    "            nn.Linear(4 * n_embd, n_embd),\n",
    "            nn.Dropout(dropout),\n",
    "        )\n",
    "        #\n",
    "        ##################################################################\n",
    "\n",
    "\n",
    "    def forward(self, x):\n",
    "\n",
    "        \"\"\" Input: x of shape (B, T, C), i.e. (batch size, sequence length, input channels)\n",
    "          Output: tensor of shape (B, T, C)\n",
    "        \"\"\"\n",
    "\n",
    "        ##################################################################\n",
    "        #\n",
    "        return self.net(x)\n",
    "        #\n",
    "        ##################################################################\n"
   ]
  },
  {
   "cell_type": "markdown",
   "metadata": {
    "id": "NgHsspJ809d_"
   },
   "source": [
    "We have all elements for creating a block now!"
   ]
  },
  {
   "cell_type": "code",
   "execution_count": 19,
   "metadata": {
    "id": "8bsewCbA0816"
   },
   "outputs": [],
   "source": [
    "class Block(nn.Module):\n",
    "    \"\"\" Transformer block: communication followed by computation \"\"\"\n",
    "\n",
    "    def __init__(self, n_embd, n_head, block_size):\n",
    "        # n_embd: embedding dimension, n_head: the number of heads we'd like\n",
    "        super().__init__()\n",
    "        head_size = n_embd // n_head\n",
    "        self.sa = MultiHeadAttention(n_head, head_size, n_embd, block_size)\n",
    "        self.ffwd = FeedFoward(n_embd)\n",
    "        self.ln1 = nn.LayerNorm(n_embd)\n",
    "        self.ln2 = nn.LayerNorm(n_embd)\n",
    "\n",
    "    def forward(self, x):\n",
    "        \"\"\"\n",
    "          (1) Utilizes layer normalization to preprocess the input features before passing them through the self-attention mechanism.\n",
    "              Updates the input features by adding the output of the self-attention mechanism, fostering communication between different parts of the input sequence.\n",
    "          (2) Utilizes layer normalization to preprocess the updated input features before passing them through the feedforward neural network.\n",
    "              Updates the input features again by adding the output of the feedforward neural network, enabling the model to capture non-linear relationships and patterns within the data.\n",
    "        \"\"\"\n",
    "        x = x + self.sa(self.ln1(x))\n",
    "        x = x + self.ffwd(self.ln2(x))\n",
    "        return x\n"
   ]
  },
  {
   "cell_type": "markdown",
   "metadata": {
    "id": "G91V9Ora11xp"
   },
   "source": [
    "We can now create our toy model!"
   ]
  },
  {
   "cell_type": "code",
   "execution_count": 20,
   "metadata": {
    "id": "P-s2Z6yn2EcK"
   },
   "outputs": [],
   "source": [
    "# super simple bigram model\n",
    "class BigramLanguageModel(nn.Module):\n",
    "\n",
    "    def __init__(self):\n",
    "        super().__init__()\n",
    "        # each token directly reads off the logits for the next token from a lookup table\n",
    "        self.token_embedding_table = nn.Embedding(vocab_size, n_embd)\n",
    "        self.position_embedding_table = nn.Embedding(block_size, n_embd)\n",
    "        self.blocks = nn.Sequential(*[Block(n_embd, n_head, block_size) for _ in range(n_layer)])\n",
    "        self.ln_f = nn.LayerNorm(n_embd) # final layer norm\n",
    "        self.lm_head = nn.Linear(n_embd, vocab_size)\n",
    "\n",
    "    def forward(self, idx, targets=None):\n",
    "        B, T = idx.shape\n",
    "\n",
    "        ##################################################################\n",
    "        #\n",
    "        tok_emb = self.token_embedding_table(idx) # (B,T,C)\n",
    "        pos_emb = self.position_embedding_table(torch.arange(T, device=device)) # (T,C)\n",
    "        x = tok_emb + pos_emb # (B,T,C)\n",
    "        x = self.blocks(x) # (B,T,C)\n",
    "        x = self.ln_f(x) # (B,T,C)\n",
    "        logits = self.lm_head(x) # (B,T,vocab_size)\n",
    "        #\n",
    "        ##################################################################\n",
    "\n",
    "        #compute loss\n",
    "        if targets is None:\n",
    "            loss = None\n",
    "        else:\n",
    "            B, T, C = logits.shape\n",
    "            logits = logits.view(B*T, C)\n",
    "            targets = targets.view(B*T)\n",
    "            loss = F.cross_entropy(logits, targets)\n",
    "\n",
    "        return logits, loss\n",
    "\n",
    "    def generate(self, idx, max_new_tokens):\n",
    "        # idx is (B, T) array of indices in the current context\n",
    "        for _ in range(max_new_tokens):\n",
    "            # crop idx to the last block_size tokens\n",
    "            idx_cond = idx[:, -block_size:]\n",
    "            # get the predictions\n",
    "            logits, loss = self(idx_cond)\n",
    "            # focus only on the last time step\n",
    "            logits = logits[:, -1, :] # becomes (B, C)\n",
    "            # apply softmax to get probabilities\n",
    "            probs = F.softmax(logits, dim=-1) # (B, C)\n",
    "            # sample from the distribution\n",
    "            idx_next = torch.multinomial(probs, num_samples=1) # (B, 1)\n",
    "            # append sampled index to the running sequence\n",
    "            idx = torch.cat((idx, idx_next), dim=1) # (B, T+1)\n",
    "        return idx"
   ]
  },
  {
   "cell_type": "markdown",
   "metadata": {
    "id": "T_fC913PrD7Q"
   },
   "source": [
    "# Now, it's time to train the model."
   ]
  },
  {
   "cell_type": "markdown",
   "metadata": {
    "id": "yY0ZIAnXGx3l"
   },
   "source": [
    "First, download the data."
   ]
  },
  {
   "cell_type": "code",
   "execution_count": 21,
   "metadata": {
    "id": "Dp5wTKOsrX0u"
   },
   "outputs": [],
   "source": [
    "#Download tiny Shakespeare dataset and read it\n",
    "#!wget https://raw.githubusercontent.com/karpathy/char-rnn/master/data/tinyshakespeare/input.txt\n",
    "with open('input.txt', 'r', encoding='utf-8') as f:\n",
    "    text = f.read()"
   ]
  },
  {
   "cell_type": "markdown",
   "metadata": {
    "id": "frIeUGEoraWG"
   },
   "source": [
    "Now, we will simply implement our own tokenizer. For this simple assignment, we will use __character based tokenizer__. However, keep in mind that character level tokenizer is not a common practice in real life. More complicated tokenizers are being used. For an introductory reading to tokenizers, you refer to the following video: https://youtu.be/zduSFxRajkE?si=quNy7UNMQkJ20Nim\n",
    "\n",
    "There are __two main properties of a tokenizer: encode and decode__. Encoding function takes a string, divides it to the tokens and then converts each token to their assigned integer value. You can think about this integer assignment part as a lookup table. Decoding reverses the encoding process, converting the processed or encoded text back into its original form, allowing for human-readable interpretation or presentation."
   ]
  },
  {
   "cell_type": "code",
   "execution_count": 22,
   "metadata": {
    "id": "Z9QNGk__rQHK"
   },
   "outputs": [],
   "source": [
    "# here are all the unique characters that occur in this text\n",
    "chars = sorted(list(set(text)))\n",
    "vocab_size = len(chars)\n",
    "# create a mapping from characters to integers\n",
    "stoi = { ch:i for i,ch in enumerate(chars) }\n",
    "itos = { i:ch for i,ch in enumerate(chars) }\n",
    "encode = lambda s: [stoi[c] for c in s] # encoder: take a string, output a list of integers\n",
    "decode = lambda l: ''.join([itos[i] for i in l]) # decoder: take a list of integers, output a string\n"
   ]
  },
  {
   "cell_type": "markdown",
   "metadata": {
    "id": "haWjuqkDtvpz"
   },
   "source": [
    "Let's create train and validation splits."
   ]
  },
  {
   "cell_type": "code",
   "execution_count": 23,
   "metadata": {
    "id": "NzAGM5oKt09S"
   },
   "outputs": [],
   "source": [
    "# Train and test splits\n",
    "data = torch.tensor(encode(text), dtype=torch.long)\n",
    "n = int(0.9*len(data)) # first 90% will be train, rest val\n",
    "train_data = data[:n]\n",
    "val_data = data[n:]"
   ]
  },
  {
   "cell_type": "code",
   "execution_count": 24,
   "metadata": {
    "id": "mEsE9xLQuBNh"
   },
   "outputs": [],
   "source": [
    "# data loading\n",
    "def get_batch(split, batch_size, block_size):\n",
    "    # generate a small batch of data of inputs x and targets y\n",
    "    data = train_data if split == 'train' else val_data\n",
    "    ix = torch.randint(len(data) - block_size, (batch_size,))\n",
    "    x = torch.stack([data[i:i+block_size] for i in ix])\n",
    "    y = torch.stack([data[i+1:i+block_size+1] for i in ix])\n",
    "    x, y = x.to(device), y.to(device)\n",
    "    return x, y"
   ]
  },
  {
   "cell_type": "code",
   "execution_count": 25,
   "metadata": {
    "id": "XpAElNyluf6l"
   },
   "outputs": [],
   "source": [
    "#define loss estimation function for train and validation\n",
    "@torch.no_grad()\n",
    "def estimate_loss(batch_size, block_size, eval_iters = 200):\n",
    "    out = {}\n",
    "    model.eval()\n",
    "    for split in ['train', 'val']:\n",
    "        losses = torch.zeros(eval_iters)\n",
    "        for k in range(eval_iters):\n",
    "            X, Y = get_batch(split, batch_size, block_size)\n",
    "            logits, loss = model(X, Y)\n",
    "            losses[k] = loss.item()\n",
    "        out[split] = losses.mean()\n",
    "    model.train()\n",
    "    return out"
   ]
  },
  {
   "cell_type": "markdown",
   "metadata": {
    "id": "DrNQ8Fu6G4Bp"
   },
   "source": [
    "Define hyperparameter"
   ]
  },
  {
   "cell_type": "code",
   "execution_count": 26,
   "metadata": {
    "id": "tfV-teYy2STp"
   },
   "outputs": [],
   "source": [
    "# hyperparameters\n",
    "batch_size = 16 # how many independent sequences will we process in parallel?\n",
    "block_size = 32 # what is the maximum context length for predictions?\n",
    "\n",
    "max_iters = 5000\n",
    "eval_interval = 100\n",
    "learning_rate = 1e-3\n",
    "device = 'cuda' if torch.cuda.is_available() else 'cpu'\n",
    "\n",
    "n_embd = 64\n",
    "#n_head = 4\n",
    "n_head = 2\n",
    "n_layer = 4\n",
    "dropout = 0.0"
   ]
  },
  {
   "cell_type": "markdown",
   "metadata": {
    "id": "0IpYQE174mkf"
   },
   "source": [
    "Create model and move to device"
   ]
  },
  {
   "cell_type": "code",
   "execution_count": 27,
   "metadata": {
    "colab": {
     "base_uri": "https://localhost:8080/"
    },
    "id": "bMybKo9-4bnN",
    "outputId": "c4842122-2456-4982-d089-119ff7815723"
   },
   "outputs": [
    {
     "name": "stdout",
     "output_type": "stream",
     "text": [
      "0.209729 M parameters\n"
     ]
    }
   ],
   "source": [
    "model = BigramLanguageModel()\n",
    "m = model.to(device)\n",
    "# print the number of parameters in the model\n",
    "print(sum(p.numel() for p in m.parameters())/1e6, 'M parameters')"
   ]
  },
  {
   "cell_type": "markdown",
   "metadata": {
    "id": "lvGzmMqV8u02"
   },
   "source": [
    "Let's see what model generates before training"
   ]
  },
  {
   "cell_type": "code",
   "execution_count": 28,
   "metadata": {
    "id": "TTWAw5e08tLo"
   },
   "outputs": [
    {
     "name": "stdout",
     "output_type": "stream",
     "text": [
      "\n",
      "DuJAMJ3fX$VWoGCYngj$'onoE,$AT-NvynticCzJ-c!bnDNyjfND,?to;rVcANzq:nf$3NVAz:YzgNkceei.-efVhpXz,NApQe.3hRfNThglUzoecXgZ q.g?d\n",
      "xeo$ug:'QmZqR3F!neLZmh.TW,$-Jko.iu!seNwol$zJ,pJhwiKeo,Ssnu3blKpSpbMcSWhWmYn&UwNUc-qmfjkeRecJDeqqNWVa-?gLrR XbM ?BJxRlB;?zUC\n",
      "blOHdJV\n",
      "XXo;Vch.kt?Hpza:hoV.NarnDozmp zPj-!gTsoSN-FgAAuYeANEmUhNMNx- SEMxyJdyJAssmp.! OKoc,riiJ?acNQKscoiiNzAp,zciDvy-uFXQV'Vquq$Bvd-OuH,$AyEqs.,wUcLOa e$':,cJwX'TOiaBpyokP&W!T!NGUUJWS.OWo!LvFjeDfP.?,FoJgu!cXuImjNE;,jqthn,y?3T:EiOBpLm\n",
      ":OgMb,xE,ol uHcI KZJKFcZpWDn3,XY\n",
      "JVP'KNvdrhk!pJQJnsW3pvJ-b3,QPD3NN DfVPUeo.HwouBh\n",
      "vr:wPpu!iuNJXENzHVNFq,PzeK?h.INNcmF,k,oc$qU$iuJCzuSbA$Wn,dpoPAeOzdX,nBoOzQ!Ldnsi?sAriBO.bqjouA :$VOi.&AlANczQ,yb jv.-qubZo!RN-QtAL;V:rQ,klRMsVhdypppLyGKeE-IoowJpXKMTwNxLegKUjpEzq! dZpupUetU\n",
      "q D!Dl--q\n",
      ",aM?W-cAL$gli;H;iivwo,RoQiaaL.C-T.&p&\n",
      "\n",
      "p?AJHyp'OCplq3tU!IEcpodmKKPqrHe$C.,g:-A'ONJep,XignPXoOn!qUDFC;URWzXUzELD3D3N&CEOWUwXcJp,JlKsp, Dftwp:NGsIR.?cetPme?p3f'-g?,BBX,ciFzeXDt&V!rnoOwtBp\n",
      "hioZNLLeyhL!sV\n",
      "QvqJJlbup?UJWbJ?Upei&,\n",
      "LeTanqJqJDzmp!wj&c.cYNwUOAKAf-sHpsQeJMN3cMtZLNc!$XhSKN\n",
      "V;EmUcNf-jaLwphC-aVD zm\n",
      "putgO,;k$?'jn$-Mpvc'aehlKU& LdK'CJyNPztVt-,hgeCqUWh,DXgeosNjedVtQDug&pazXQcaYMmd.eHEsDwNcPN:\n",
      ";3\n",
      "V.uF$pbqppKhFNzbThguFw3AQJn?yo!$en?hyV;sWzdxpjtFheuczN Tio\n",
      "gNP:QcAcPomMucbvioWTzNkkZNpVvEtyzlKOpZNx\n",
      "iI$znI3QK,.XJrXtcI alc!JKWNYGxTwGcdsk&pOGfpsM:Q?KhDHcbYnczfdhplPvjKUEp$Qtvkwhvtnl$co?wU-KnDv-?itpKFD'ob czqLMSgkzOYIcArdpk;3io&AzCYEl,ViMUpFcLU-nOQucpxt-.KCe3VhkCPfVFAiO&OzuNc$3.AftKczSGi J--DacfLde,e$,3?$otzXVwV:zmiof?.VuBjewEgn$JQ.UfodpmsgNHpVcJwjLQ,FRzwbYvF,DoFoQTeCE.AKcJiXkauNPi?\n",
      "&dmquhv'Ob?n-Pq:$ApDKtA,iW-KcuKw?.;FKdX;V kf?!yNjyWhoe!zcM:Az'n,KzyoEh-cu;AVp:tj\n",
      "FpU.-?a:bd3L:,fglJeylFowtcNnUpGoLQqL3spLUr:-JKp,Z :JcJwzqtsppIueci:twBuNMpbtl:!IcNz'FsqzpMutpqo'.-$3DXVOsVnctgVpq$AJRS.-gwn&yFuNwqwnQcLaVFcSvXizCr;p;zrqrnpKRSjaV.fq3mecJkte?hfgwfdheLMwz!,PBa\n",
      "JCJ?$-GKrTy?-m-HG:znWEgj!T.pD3fMBqu&ywKPT$&?RgmnoE-NrpONKkSNKdOoXPHPSfbBXuppDwXsleVctcL,G,pXpcsgzya:edz-XP&pHQuXlWTUAA-lphf'Z! pwFgcWKnWmMWXKgxcZXBgUvSup&XRgmrDmONcPnNjBNcX-FKiXNe'\n"
     ]
    }
   ],
   "source": [
    "# generate from the model\n",
    "context = torch.zeros((1, 1), dtype=torch.long, device=device)\n",
    "print(decode(m.generate(context, max_new_tokens=2000)[0].tolist()))"
   ]
  },
  {
   "cell_type": "markdown",
   "metadata": {
    "id": "hMjWNQ3p4sFM"
   },
   "source": [
    "Train the model"
   ]
  },
  {
   "cell_type": "code",
   "execution_count": 29,
   "metadata": {
    "id": "hoelkOrFY8bN"
   },
   "outputs": [
    {
     "name": "stdout",
     "output_type": "stream",
     "text": [
      "step 0: train loss 4.4045, val loss 4.3964\n",
      "step 100: train loss 2.6368, val loss 2.6426\n",
      "step 200: train loss 2.4858, val loss 2.4908\n",
      "step 300: train loss 2.3788, val loss 2.3852\n",
      "step 400: train loss 2.3180, val loss 2.3250\n",
      "step 500: train loss 2.2627, val loss 2.2680\n",
      "step 600: train loss 2.2226, val loss 2.2254\n",
      "step 700: train loss 2.1587, val loss 2.1800\n",
      "step 800: train loss 2.1203, val loss 2.1546\n",
      "step 900: train loss 2.0891, val loss 2.1332\n",
      "step 1000: train loss 2.0662, val loss 2.1016\n",
      "step 1100: train loss 2.0332, val loss 2.0733\n",
      "step 1200: train loss 2.0073, val loss 2.0498\n",
      "step 1300: train loss 1.9925, val loss 2.0349\n",
      "step 1400: train loss 1.9589, val loss 2.0242\n",
      "step 1500: train loss 1.9411, val loss 2.0177\n",
      "step 1600: train loss 1.9129, val loss 1.9930\n",
      "step 1700: train loss 1.9113, val loss 2.0010\n",
      "step 1800: train loss 1.8943, val loss 1.9807\n",
      "step 1900: train loss 1.8736, val loss 1.9770\n",
      "step 2000: train loss 1.8561, val loss 1.9568\n",
      "step 2100: train loss 1.8533, val loss 1.9759\n",
      "step 2200: train loss 1.8266, val loss 1.9369\n",
      "step 2300: train loss 1.8221, val loss 1.9386\n",
      "step 2400: train loss 1.8014, val loss 1.9408\n",
      "step 2500: train loss 1.7996, val loss 1.9428\n",
      "step 2600: train loss 1.7911, val loss 1.9320\n",
      "step 2700: train loss 1.7785, val loss 1.9193\n",
      "step 2800: train loss 1.7757, val loss 1.9091\n",
      "step 2900: train loss 1.7598, val loss 1.8999\n",
      "step 3000: train loss 1.7468, val loss 1.8887\n",
      "step 3100: train loss 1.7423, val loss 1.8754\n",
      "step 3200: train loss 1.7253, val loss 1.8651\n",
      "step 3300: train loss 1.7205, val loss 1.8617\n",
      "step 3400: train loss 1.7183, val loss 1.8645\n",
      "step 3500: train loss 1.7056, val loss 1.8696\n",
      "step 3600: train loss 1.7177, val loss 1.8592\n",
      "step 3700: train loss 1.7095, val loss 1.8415\n",
      "step 3800: train loss 1.6991, val loss 1.8679\n",
      "step 3900: train loss 1.6917, val loss 1.8531\n",
      "step 4000: train loss 1.6940, val loss 1.8513\n",
      "step 4100: train loss 1.6868, val loss 1.8377\n",
      "step 4200: train loss 1.6771, val loss 1.8434\n",
      "step 4300: train loss 1.6878, val loss 1.8547\n",
      "step 4400: train loss 1.6646, val loss 1.8507\n",
      "step 4500: train loss 1.6734, val loss 1.8551\n",
      "step 4600: train loss 1.6719, val loss 1.8390\n",
      "step 4700: train loss 1.6589, val loss 1.8200\n",
      "step 4800: train loss 1.6537, val loss 1.8061\n",
      "step 4900: train loss 1.6513, val loss 1.7983\n",
      "step 4999: train loss 1.6386, val loss 1.8149\n"
     ]
    },
    {
     "data": {
      "image/png": "[encoded data removed]",
      "text/plain": [
       "<Figure size 640x480 with 1 Axes>"
      ]
     },
     "metadata": {},
     "output_type": "display_data"
    }
   ],
   "source": [
    "# create a PyTorch optimizer\n",
    "optimizer = torch.optim.AdamW(model.parameters(), lr=learning_rate)\n",
    "train_loss = []\n",
    "val_loss = []\n",
    "\n",
    "for iter in range(max_iters):\n",
    "\n",
    "    # every once in a while evaluate the loss on train and val sets\n",
    "    if iter % eval_interval == 0 or iter == max_iters - 1:\n",
    "        losses = estimate_loss(batch_size, block_size)\n",
    "        print(f\"step {iter}: train loss {losses['train']:.4f}, val loss {losses['val']:.4f}\")\n",
    "        train_loss.append(losses['train'])\n",
    "        val_loss.append(losses['val'])\n",
    "\n",
    "    # sample a batch of data\n",
    "    xb, yb = get_batch('train', batch_size, block_size)\n",
    "\n",
    "    # evaluate the loss\n",
    "    logits, loss = model(xb, yb)\n",
    "    optimizer.zero_grad(set_to_none=True)\n",
    "    loss.backward()\n",
    "    optimizer.step()\n",
    "\n",
    "plt.plot(train_loss, label=\"train\")\n",
    "plt.plot(val_loss, label=\"val\")\n",
    "plt.show()"
   ]
  },
  {
   "cell_type": "markdown",
   "metadata": {
    "id": "m-kA8bXe82IK"
   },
   "source": [
    "Now, it's time to see the generation of a trained model!!"
   ]
  },
  {
   "cell_type": "code",
   "execution_count": 30,
   "metadata": {
    "id": "fjjvMifYZf7x"
   },
   "outputs": [
    {
     "name": "stdout",
     "output_type": "stream",
     "text": [
      "\n",
      "Fireaticent\n",
      "Awhat, lame as a hold swo helper\n",
      "To soul depine is untagent one to gliff thy battless were the hears come,\n",
      "Nor Oxcessly: sir, by husil.\n",
      "\n",
      "LADY IUS:\n",
      "Let eyes guily my eyes full.\n",
      "When that rest by rather's genemies.\n",
      "\n",
      "Fillo, Jureof\n",
      "Make wetchirt with here care this lause.\n",
      "In stay not him than souly distard grount a sween:\n",
      "Ah, what her man, but in noth hanged my bargued;\n",
      "And, therefor SmOUCESTER:\n",
      "My say and grace.\n",
      "3 HENRY Bold soveraly master you respirount off\n",
      "uperse; by confuccy: so with fhile his prity. No's but use this is thy pards it. But fath he, death of yetempt,\n",
      "And father not gasned towe is any sope is as was shall kin me;\n",
      "When in things himself shames, then less,\n",
      "A son prom mieed your last, deeppuled?\n",
      "\n",
      "JRITH:\n",
      "Wherew, and my this calens,\n",
      "With lew'd and done the when noped caugness.\n",
      "Bathen untient of ways? Why, so good,\n",
      "Mercupard, the glot man me wear the part.\n",
      "\n",
      "PORISSOLANUS:\n",
      "The mustman you good feap the world,\n",
      "From Leem Catter of iyour say, well:\n",
      "thou obst day dothing of despil Cichior:\n",
      "The you slain, beithes latked. That prities,\n",
      "Thinks thy glaty'd common my could:\n",
      "And kinj; leave as trmys have owards way,\n",
      "With my guictines to Rispeak us yield!\n",
      "\n",
      "DUKE ANVOLANNT:\n",
      "HOMBY the are is day fall are oxid.\n",
      "\n",
      "JULIA:\n",
      "I ambreach, as Kees: sparman.\n",
      "DOHESS kine, face imselver: thee how were night.\n",
      "\n",
      "CAMILLEO:\n",
      "Thought musn my pross again.\n",
      "\n",
      "PLARET:\n",
      "'Has as then sover it kin, as juster to much art thie deselittely nichion.\n",
      "\n",
      "Secots:\n",
      "Now, 'xerefore that we mlack that or therefor'dow. Whiss not.\n",
      "\n",
      "BlowNARWILLIFF:\n",
      "To Narfieuless if the shows hear\n",
      "The hast in Jareoper'd of youNGo you and both makes,\n",
      "With shonescarded no his shuntry shaper'd sover your dame!\n",
      "\n",
      "DUCH:\n",
      "Or this in our\n",
      "Too Keepour is the worksee mole.\n",
      "\n",
      "CLYCUS:\n",
      "YORAY:\n",
      "Nay, my unless gantle with thy time which. Jay, For first\n",
      "Thy peacefore to Seence she is must once,\n",
      "Cruch share your most's and seemser.\n",
      "3 PRICK:\n",
      "Yet for pler in sea\n",
      "Where not myself the troves; let's him, sins; if the larence the heart, that being? \n"
     ]
    }
   ],
   "source": [
    "# generate from the model\n",
    "context = torch.zeros((1, 1), dtype=torch.long, device=device)\n",
    "print(decode(m.generate(context, max_new_tokens=2000)[0].tolist()))"
   ]
  },
  {
   "cell_type": "code",
   "execution_count": null,
   "metadata": {},
   "outputs": [],
   "source": []
  }
 ],
 "metadata": {
  "colab": {
   "provenance": []
  },
  "kernelspec": {
   "display_name": "Python 3 (ipykernel)",
   "language": "python",
   "name": "python3"
  },
  "language_info": {
   "codemirror_mode": {
    "name": "ipython",
    "version": 3
   },
   "file_extension": ".py",
   "mimetype": "text/x-python",
   "name": "python",
   "nbconvert_exporter": "python",
   "pygments_lexer": "ipython3",
   "version": "3.10.11"
  }
 },
 "nbformat": 4,
 "nbformat_minor": 4
}
